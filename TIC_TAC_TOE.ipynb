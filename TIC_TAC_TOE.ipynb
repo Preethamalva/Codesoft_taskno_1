{
  "cells": [
    {
      "cell_type": "markdown",
      "metadata": {
        "id": "view-in-github",
        "colab_type": "text"
      },
      "source": [
        "<a href=\"https://colab.research.google.com/github/Preethamalva/Codesoft_taskno_1/blob/main/TIC_TAC_TOE.ipynb\" target=\"_parent\"><img src=\"https://colab.research.google.com/assets/colab-badge.svg\" alt=\"Open In Colab\"/></a>"
      ]
    },
    {
      "cell_type": "code",
      "execution_count": null,
      "metadata": {
        "colab": {
          "base_uri": "https://localhost:8080/"
        },
        "id": "RCyVJ36TmH-u",
        "outputId": "ee358c24-172b-40af-b2ef-f1adf034bacc"
      },
      "outputs": [
        {
          "output_type": "stream",
          "name": "stdout",
          "text": [
            "- | - | -\n",
            "- | - | -\n",
            "- | - | -\n",
            "X's turn.\n",
            "Choose a position from 1-9: 1\n",
            "X | - | -\n",
            "- | - | -\n",
            "- | - | -\n",
            "O's turn.\n",
            "Choose a position from 1-9: 4\n",
            "X | - | -\n",
            "O | - | -\n",
            "- | - | -\n",
            "X's turn.\n",
            "Choose a position from 1-9: 2\n",
            "X | X | -\n",
            "O | - | -\n",
            "- | - | -\n",
            "O's turn.\n",
            "Choose a position from 1-9: 5\n",
            "X | X | -\n",
            "O | O | -\n",
            "- | - | -\n",
            "X's turn.\n",
            "Choose a position from 1-9: 3\n",
            "X | X | X\n",
            "O | O | -\n",
            "- | - | -\n",
            "X wins!\n"
          ]
        }
      ],
      "source": [
        "# Set up the game board as a list\n",
        "board = [\"-\", \"-\", \"-\",\n",
        "\t\t\"-\", \"-\", \"-\",\n",
        "\t\t\"-\", \"-\", \"-\"]\n",
        "\n",
        "# Define a function to print the game board\n",
        "def print_board():\n",
        "\tprint(board[0] + \" | \" + board[1] + \" | \" + board[2])\n",
        "\tprint(board[3] + \" | \" + board[4] + \" | \" + board[5])\n",
        "\tprint(board[6] + \" | \" + board[7] + \" | \" + board[8])\n",
        "\n",
        "# Define a function to handle a player's turn\n",
        "def take_turn(player):\n",
        "\tprint(player + \"'s turn.\")\n",
        "\tposition = input(\"Choose a position from 1-9: \")\n",
        "\twhile position not in [\"1\", \"2\", \"3\", \"4\", \"5\", \"6\", \"7\", \"8\", \"9\"]:\n",
        "\t\tposition = input(\"Invalid input. Choose a position from 1-9: \")\n",
        "\tposition = int(position) - 1\n",
        "\twhile board[position] != \"-\":\n",
        "\t\tposition = int(input(\"Position already taken. Choose a different position: \")) - 1\n",
        "\tboard[position] = player\n",
        "\tprint_board()\n",
        "\n",
        "# Define a function to check if the game is over\n",
        "def check_game_over():\n",
        "\t# Check for a win\n",
        "\tif (board[0] == board[1] == board[2] != \"-\") or \\\n",
        "\t(board[3] == board[4] == board[5] != \"-\") or \\\n",
        "\t(board[6] == board[7] == board[8] != \"-\") or \\\n",
        "\t(board[0] == board[3] == board[6] != \"-\") or \\\n",
        "\t(board[1] == board[4] == board[7] != \"-\") or \\\n",
        "\t(board[2] == board[5] == board[8] != \"-\") or \\\n",
        "\t(board[0] == board[4] == board[8] != \"-\") or \\\n",
        "\t(board[2] == board[4] == board[6] != \"-\"):\n",
        "\t\treturn \"win\"\n",
        "\t# Check for a tie\n",
        "\telif \"-\" not in board:\n",
        "\t\treturn \"tie\"\n",
        "\t# Game is not over\n",
        "\telse:\n",
        "\t\treturn \"play\"\n",
        "\n",
        "# Define the main game loop\n",
        "def play_game():\n",
        "\tprint_board()\n",
        "\tcurrent_player = \"X\"\n",
        "\tgame_over = False\n",
        "\twhile not game_over:\n",
        "\t\ttake_turn(current_player)\n",
        "\t\tgame_result = check_game_over()\n",
        "\t\tif game_result == \"win\":\n",
        "\t\t\tprint(current_player + \" wins!\")\n",
        "\t\t\tgame_over = True\n",
        "\t\telif game_result == \"tie\":\n",
        "\t\t\tprint(\"It's a tie!\")\n",
        "\t\t\tgame_over = True\n",
        "\t\telse:\n",
        "\t\t\t# Switch to the other player\n",
        "\t\t\tcurrent_player = \"O\" if current_player == \"X\" else \"X\"\n",
        "\n",
        "# Start the game\n",
        "play_game()\n"
      ]
    }
  ],
  "metadata": {
    "colab": {
      "provenance": [],
      "authorship_tag": "ABX9TyO+UWldsek+w5IWi4Vtcy/V",
      "include_colab_link": true
    },
    "kernelspec": {
      "display_name": "Python 3",
      "name": "python3"
    },
    "language_info": {
      "name": "python"
    }
  },
  "nbformat": 4,
  "nbformat_minor": 0
}